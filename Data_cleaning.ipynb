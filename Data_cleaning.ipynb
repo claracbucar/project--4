{
 "cells": [
  {
   "cell_type": "code",
   "execution_count": 1,
   "metadata": {},
   "outputs": [],
   "source": [
    "# imports\n",
    "import sqlalchemy\n",
    "import psycopg2\n",
    "from sqlalchemy import create_engine\n",
    "from sql_config import protocol, username, password, host, port, database_name\n",
    "from sklearn.model_selection import train_test_split\n",
    "from sklearn.preprocessing import StandardScaler\n",
    "from sklearn.ensemble import RandomForestClassifier\n",
    "from sklearn.linear_model import LogisticRegression\n",
    "import pandas as pd\n",
    "import seaborn as sns\n",
    "import matplotlib.pyplot as plt\n",
    "import numpy as np\n",
    "import os\n",
    "\n",
    "# create db connection and engine\n",
    "rds_connection_string = f'{protocol}://{username}:{password}@{host}:{port}/{database_name}'\n",
    "engine = create_engine(rds_connection_string)"
   ]
  },
  {
   "cell_type": "code",
   "execution_count": 2,
   "metadata": {},
   "outputs": [],
   "source": [
    "# Read in the postgres table into a dataframe\n",
    "df = pd.read_sql_query('select * from proj4_sch.vw_target_with_ext', con=engine)"
   ]
  },
  {
   "cell_type": "code",
   "execution_count": 3,
   "metadata": {},
   "outputs": [
    {
     "data": {
      "text/html": [
       "<div>\n",
       "<style scoped>\n",
       "    .dataframe tbody tr th:only-of-type {\n",
       "        vertical-align: middle;\n",
       "    }\n",
       "\n",
       "    .dataframe tbody tr th {\n",
       "        vertical-align: top;\n",
       "    }\n",
       "\n",
       "    .dataframe thead th {\n",
       "        text-align: right;\n",
       "    }\n",
       "</style>\n",
       "<table border=\"1\" class=\"dataframe\">\n",
       "  <thead>\n",
       "    <tr style=\"text-align: right;\">\n",
       "      <th></th>\n",
       "      <th>TARGET</th>\n",
       "      <th>NAME_CONTRACT_TYPE</th>\n",
       "      <th>CODE_GENDER</th>\n",
       "      <th>FLAG_OWN_CAR</th>\n",
       "      <th>FLAG_OWN_REALTY</th>\n",
       "      <th>CNT_CHILDREN</th>\n",
       "      <th>AMT_INCOME_TOTAL</th>\n",
       "      <th>AMT_CREDIT</th>\n",
       "      <th>AMT_ANNUITY</th>\n",
       "      <th>AMT_GOODS_PRICE</th>\n",
       "      <th>...</th>\n",
       "      <th>FLAG_DOCUMENT_18</th>\n",
       "      <th>FLAG_DOCUMENT_19</th>\n",
       "      <th>FLAG_DOCUMENT_20</th>\n",
       "      <th>FLAG_DOCUMENT_21</th>\n",
       "      <th>AMT_REQ_CREDIT_BUREAU_HOUR</th>\n",
       "      <th>AMT_REQ_CREDIT_BUREAU_DAY</th>\n",
       "      <th>AMT_REQ_CREDIT_BUREAU_WEEK</th>\n",
       "      <th>AMT_REQ_CREDIT_BUREAU_MON</th>\n",
       "      <th>AMT_REQ_CREDIT_BUREAU_QRT</th>\n",
       "      <th>AMT_REQ_CREDIT_BUREAU_YEAR</th>\n",
       "    </tr>\n",
       "  </thead>\n",
       "  <tbody>\n",
       "    <tr>\n",
       "      <th>0</th>\n",
       "      <td>1</td>\n",
       "      <td>Cash loans</td>\n",
       "      <td>M</td>\n",
       "      <td>N</td>\n",
       "      <td>Y</td>\n",
       "      <td>0</td>\n",
       "      <td>202500.0</td>\n",
       "      <td>406597.5</td>\n",
       "      <td>24700.5</td>\n",
       "      <td>351000.0</td>\n",
       "      <td>...</td>\n",
       "      <td>0</td>\n",
       "      <td>0</td>\n",
       "      <td>0</td>\n",
       "      <td>0</td>\n",
       "      <td>0.0</td>\n",
       "      <td>0.0</td>\n",
       "      <td>0.0</td>\n",
       "      <td>0.0</td>\n",
       "      <td>0.0</td>\n",
       "      <td>1.0</td>\n",
       "    </tr>\n",
       "    <tr>\n",
       "      <th>1</th>\n",
       "      <td>0</td>\n",
       "      <td>Cash loans</td>\n",
       "      <td>F</td>\n",
       "      <td>N</td>\n",
       "      <td>N</td>\n",
       "      <td>0</td>\n",
       "      <td>270000.0</td>\n",
       "      <td>1293502.5</td>\n",
       "      <td>35698.5</td>\n",
       "      <td>1129500.0</td>\n",
       "      <td>...</td>\n",
       "      <td>0</td>\n",
       "      <td>0</td>\n",
       "      <td>0</td>\n",
       "      <td>0</td>\n",
       "      <td>0.0</td>\n",
       "      <td>0.0</td>\n",
       "      <td>0.0</td>\n",
       "      <td>0.0</td>\n",
       "      <td>0.0</td>\n",
       "      <td>0.0</td>\n",
       "    </tr>\n",
       "    <tr>\n",
       "      <th>2</th>\n",
       "      <td>0</td>\n",
       "      <td>Revolving loans</td>\n",
       "      <td>M</td>\n",
       "      <td>Y</td>\n",
       "      <td>Y</td>\n",
       "      <td>0</td>\n",
       "      <td>67500.0</td>\n",
       "      <td>135000.0</td>\n",
       "      <td>6750.0</td>\n",
       "      <td>135000.0</td>\n",
       "      <td>...</td>\n",
       "      <td>0</td>\n",
       "      <td>0</td>\n",
       "      <td>0</td>\n",
       "      <td>0</td>\n",
       "      <td>0.0</td>\n",
       "      <td>0.0</td>\n",
       "      <td>0.0</td>\n",
       "      <td>0.0</td>\n",
       "      <td>0.0</td>\n",
       "      <td>0.0</td>\n",
       "    </tr>\n",
       "    <tr>\n",
       "      <th>3</th>\n",
       "      <td>0</td>\n",
       "      <td>Cash loans</td>\n",
       "      <td>F</td>\n",
       "      <td>N</td>\n",
       "      <td>Y</td>\n",
       "      <td>0</td>\n",
       "      <td>135000.0</td>\n",
       "      <td>312682.5</td>\n",
       "      <td>29686.5</td>\n",
       "      <td>297000.0</td>\n",
       "      <td>...</td>\n",
       "      <td>0</td>\n",
       "      <td>0</td>\n",
       "      <td>0</td>\n",
       "      <td>0</td>\n",
       "      <td>NaN</td>\n",
       "      <td>NaN</td>\n",
       "      <td>NaN</td>\n",
       "      <td>NaN</td>\n",
       "      <td>NaN</td>\n",
       "      <td>NaN</td>\n",
       "    </tr>\n",
       "    <tr>\n",
       "      <th>4</th>\n",
       "      <td>0</td>\n",
       "      <td>Cash loans</td>\n",
       "      <td>M</td>\n",
       "      <td>N</td>\n",
       "      <td>Y</td>\n",
       "      <td>0</td>\n",
       "      <td>121500.0</td>\n",
       "      <td>513000.0</td>\n",
       "      <td>21865.5</td>\n",
       "      <td>513000.0</td>\n",
       "      <td>...</td>\n",
       "      <td>0</td>\n",
       "      <td>0</td>\n",
       "      <td>0</td>\n",
       "      <td>0</td>\n",
       "      <td>0.0</td>\n",
       "      <td>0.0</td>\n",
       "      <td>0.0</td>\n",
       "      <td>0.0</td>\n",
       "      <td>0.0</td>\n",
       "      <td>0.0</td>\n",
       "    </tr>\n",
       "  </tbody>\n",
       "</table>\n",
       "<p>5 rows × 92 columns</p>\n",
       "</div>"
      ],
      "text/plain": [
       "   TARGET NAME_CONTRACT_TYPE CODE_GENDER FLAG_OWN_CAR FLAG_OWN_REALTY  \\\n",
       "0       1         Cash loans           M            N               Y   \n",
       "1       0         Cash loans           F            N               N   \n",
       "2       0    Revolving loans           M            Y               Y   \n",
       "3       0         Cash loans           F            N               Y   \n",
       "4       0         Cash loans           M            N               Y   \n",
       "\n",
       "   CNT_CHILDREN  AMT_INCOME_TOTAL  AMT_CREDIT  AMT_ANNUITY  AMT_GOODS_PRICE  \\\n",
       "0             0          202500.0    406597.5      24700.5         351000.0   \n",
       "1             0          270000.0   1293502.5      35698.5        1129500.0   \n",
       "2             0           67500.0    135000.0       6750.0         135000.0   \n",
       "3             0          135000.0    312682.5      29686.5         297000.0   \n",
       "4             0          121500.0    513000.0      21865.5         513000.0   \n",
       "\n",
       "   ... FLAG_DOCUMENT_18 FLAG_DOCUMENT_19 FLAG_DOCUMENT_20 FLAG_DOCUMENT_21  \\\n",
       "0  ...                0                0                0                0   \n",
       "1  ...                0                0                0                0   \n",
       "2  ...                0                0                0                0   \n",
       "3  ...                0                0                0                0   \n",
       "4  ...                0                0                0                0   \n",
       "\n",
       "  AMT_REQ_CREDIT_BUREAU_HOUR  AMT_REQ_CREDIT_BUREAU_DAY  \\\n",
       "0                        0.0                        0.0   \n",
       "1                        0.0                        0.0   \n",
       "2                        0.0                        0.0   \n",
       "3                        NaN                        NaN   \n",
       "4                        0.0                        0.0   \n",
       "\n",
       "   AMT_REQ_CREDIT_BUREAU_WEEK  AMT_REQ_CREDIT_BUREAU_MON  \\\n",
       "0                         0.0                        0.0   \n",
       "1                         0.0                        0.0   \n",
       "2                         0.0                        0.0   \n",
       "3                         NaN                        NaN   \n",
       "4                         0.0                        0.0   \n",
       "\n",
       "   AMT_REQ_CREDIT_BUREAU_QRT  AMT_REQ_CREDIT_BUREAU_YEAR  \n",
       "0                        0.0                         1.0  \n",
       "1                        0.0                         0.0  \n",
       "2                        0.0                         0.0  \n",
       "3                        NaN                         NaN  \n",
       "4                        0.0                         0.0  \n",
       "\n",
       "[5 rows x 92 columns]"
      ]
     },
     "execution_count": 3,
     "metadata": {},
     "output_type": "execute_result"
    }
   ],
   "source": [
    "df.head()"
   ]
  },
  {
   "cell_type": "code",
   "execution_count": 4,
   "metadata": {},
   "outputs": [
    {
     "data": {
      "text/html": [
       "<div>\n",
       "<style scoped>\n",
       "    .dataframe tbody tr th:only-of-type {\n",
       "        vertical-align: middle;\n",
       "    }\n",
       "\n",
       "    .dataframe tbody tr th {\n",
       "        vertical-align: top;\n",
       "    }\n",
       "\n",
       "    .dataframe thead th {\n",
       "        text-align: right;\n",
       "    }\n",
       "</style>\n",
       "<table border=\"1\" class=\"dataframe\">\n",
       "  <thead>\n",
       "    <tr style=\"text-align: right;\">\n",
       "      <th></th>\n",
       "      <th>TARGET</th>\n",
       "      <th>NAME_CONTRACT_TYPE</th>\n",
       "      <th>CODE_GENDER</th>\n",
       "      <th>FLAG_OWN_CAR</th>\n",
       "      <th>FLAG_OWN_REALTY</th>\n",
       "      <th>CNT_CHILDREN</th>\n",
       "      <th>AMT_INCOME_TOTAL</th>\n",
       "      <th>AMT_CREDIT</th>\n",
       "      <th>AMT_ANNUITY</th>\n",
       "      <th>AMT_GOODS_PRICE</th>\n",
       "      <th>...</th>\n",
       "      <th>FLAG_DOCUMENT_18</th>\n",
       "      <th>FLAG_DOCUMENT_19</th>\n",
       "      <th>FLAG_DOCUMENT_20</th>\n",
       "      <th>FLAG_DOCUMENT_21</th>\n",
       "      <th>AMT_REQ_CREDIT_BUREAU_HOUR</th>\n",
       "      <th>AMT_REQ_CREDIT_BUREAU_DAY</th>\n",
       "      <th>AMT_REQ_CREDIT_BUREAU_WEEK</th>\n",
       "      <th>AMT_REQ_CREDIT_BUREAU_MON</th>\n",
       "      <th>AMT_REQ_CREDIT_BUREAU_QRT</th>\n",
       "      <th>AMT_REQ_CREDIT_BUREAU_YEAR</th>\n",
       "    </tr>\n",
       "  </thead>\n",
       "  <tbody>\n",
       "    <tr>\n",
       "      <th>count</th>\n",
       "      <td>307511.000</td>\n",
       "      <td>307511</td>\n",
       "      <td>307511</td>\n",
       "      <td>307511</td>\n",
       "      <td>307511</td>\n",
       "      <td>307511.000</td>\n",
       "      <td>3.075110e+05</td>\n",
       "      <td>307511.000</td>\n",
       "      <td>307499.000</td>\n",
       "      <td>307233.000</td>\n",
       "      <td>...</td>\n",
       "      <td>307511.000</td>\n",
       "      <td>307511.000</td>\n",
       "      <td>307511.000</td>\n",
       "      <td>307511.000</td>\n",
       "      <td>265992.000</td>\n",
       "      <td>265992.000</td>\n",
       "      <td>265992.000</td>\n",
       "      <td>265992.000</td>\n",
       "      <td>265992.000</td>\n",
       "      <td>265992.000</td>\n",
       "    </tr>\n",
       "    <tr>\n",
       "      <th>unique</th>\n",
       "      <td>NaN</td>\n",
       "      <td>2</td>\n",
       "      <td>3</td>\n",
       "      <td>2</td>\n",
       "      <td>2</td>\n",
       "      <td>NaN</td>\n",
       "      <td>NaN</td>\n",
       "      <td>NaN</td>\n",
       "      <td>NaN</td>\n",
       "      <td>NaN</td>\n",
       "      <td>...</td>\n",
       "      <td>NaN</td>\n",
       "      <td>NaN</td>\n",
       "      <td>NaN</td>\n",
       "      <td>NaN</td>\n",
       "      <td>NaN</td>\n",
       "      <td>NaN</td>\n",
       "      <td>NaN</td>\n",
       "      <td>NaN</td>\n",
       "      <td>NaN</td>\n",
       "      <td>NaN</td>\n",
       "    </tr>\n",
       "    <tr>\n",
       "      <th>top</th>\n",
       "      <td>NaN</td>\n",
       "      <td>Cash loans</td>\n",
       "      <td>F</td>\n",
       "      <td>N</td>\n",
       "      <td>Y</td>\n",
       "      <td>NaN</td>\n",
       "      <td>NaN</td>\n",
       "      <td>NaN</td>\n",
       "      <td>NaN</td>\n",
       "      <td>NaN</td>\n",
       "      <td>...</td>\n",
       "      <td>NaN</td>\n",
       "      <td>NaN</td>\n",
       "      <td>NaN</td>\n",
       "      <td>NaN</td>\n",
       "      <td>NaN</td>\n",
       "      <td>NaN</td>\n",
       "      <td>NaN</td>\n",
       "      <td>NaN</td>\n",
       "      <td>NaN</td>\n",
       "      <td>NaN</td>\n",
       "    </tr>\n",
       "    <tr>\n",
       "      <th>freq</th>\n",
       "      <td>NaN</td>\n",
       "      <td>278232</td>\n",
       "      <td>202448</td>\n",
       "      <td>202924</td>\n",
       "      <td>213312</td>\n",
       "      <td>NaN</td>\n",
       "      <td>NaN</td>\n",
       "      <td>NaN</td>\n",
       "      <td>NaN</td>\n",
       "      <td>NaN</td>\n",
       "      <td>...</td>\n",
       "      <td>NaN</td>\n",
       "      <td>NaN</td>\n",
       "      <td>NaN</td>\n",
       "      <td>NaN</td>\n",
       "      <td>NaN</td>\n",
       "      <td>NaN</td>\n",
       "      <td>NaN</td>\n",
       "      <td>NaN</td>\n",
       "      <td>NaN</td>\n",
       "      <td>NaN</td>\n",
       "    </tr>\n",
       "    <tr>\n",
       "      <th>mean</th>\n",
       "      <td>0.081</td>\n",
       "      <td>NaN</td>\n",
       "      <td>NaN</td>\n",
       "      <td>NaN</td>\n",
       "      <td>NaN</td>\n",
       "      <td>0.417</td>\n",
       "      <td>1.687979e+05</td>\n",
       "      <td>599026.000</td>\n",
       "      <td>27108.574</td>\n",
       "      <td>538396.207</td>\n",
       "      <td>...</td>\n",
       "      <td>0.008</td>\n",
       "      <td>0.001</td>\n",
       "      <td>0.001</td>\n",
       "      <td>0.000</td>\n",
       "      <td>0.006</td>\n",
       "      <td>0.007</td>\n",
       "      <td>0.034</td>\n",
       "      <td>0.267</td>\n",
       "      <td>0.265</td>\n",
       "      <td>1.900</td>\n",
       "    </tr>\n",
       "    <tr>\n",
       "      <th>std</th>\n",
       "      <td>0.272</td>\n",
       "      <td>NaN</td>\n",
       "      <td>NaN</td>\n",
       "      <td>NaN</td>\n",
       "      <td>NaN</td>\n",
       "      <td>0.722</td>\n",
       "      <td>2.371231e+05</td>\n",
       "      <td>402490.777</td>\n",
       "      <td>14493.737</td>\n",
       "      <td>369446.461</td>\n",
       "      <td>...</td>\n",
       "      <td>0.090</td>\n",
       "      <td>0.024</td>\n",
       "      <td>0.023</td>\n",
       "      <td>0.018</td>\n",
       "      <td>0.084</td>\n",
       "      <td>0.111</td>\n",
       "      <td>0.205</td>\n",
       "      <td>0.916</td>\n",
       "      <td>0.794</td>\n",
       "      <td>1.869</td>\n",
       "    </tr>\n",
       "    <tr>\n",
       "      <th>min</th>\n",
       "      <td>0.000</td>\n",
       "      <td>NaN</td>\n",
       "      <td>NaN</td>\n",
       "      <td>NaN</td>\n",
       "      <td>NaN</td>\n",
       "      <td>0.000</td>\n",
       "      <td>2.565000e+04</td>\n",
       "      <td>45000.000</td>\n",
       "      <td>1615.500</td>\n",
       "      <td>40500.000</td>\n",
       "      <td>...</td>\n",
       "      <td>0.000</td>\n",
       "      <td>0.000</td>\n",
       "      <td>0.000</td>\n",
       "      <td>0.000</td>\n",
       "      <td>0.000</td>\n",
       "      <td>0.000</td>\n",
       "      <td>0.000</td>\n",
       "      <td>0.000</td>\n",
       "      <td>0.000</td>\n",
       "      <td>0.000</td>\n",
       "    </tr>\n",
       "    <tr>\n",
       "      <th>25%</th>\n",
       "      <td>0.000</td>\n",
       "      <td>NaN</td>\n",
       "      <td>NaN</td>\n",
       "      <td>NaN</td>\n",
       "      <td>NaN</td>\n",
       "      <td>0.000</td>\n",
       "      <td>1.125000e+05</td>\n",
       "      <td>270000.000</td>\n",
       "      <td>16524.000</td>\n",
       "      <td>238500.000</td>\n",
       "      <td>...</td>\n",
       "      <td>0.000</td>\n",
       "      <td>0.000</td>\n",
       "      <td>0.000</td>\n",
       "      <td>0.000</td>\n",
       "      <td>0.000</td>\n",
       "      <td>0.000</td>\n",
       "      <td>0.000</td>\n",
       "      <td>0.000</td>\n",
       "      <td>0.000</td>\n",
       "      <td>0.000</td>\n",
       "    </tr>\n",
       "    <tr>\n",
       "      <th>50%</th>\n",
       "      <td>0.000</td>\n",
       "      <td>NaN</td>\n",
       "      <td>NaN</td>\n",
       "      <td>NaN</td>\n",
       "      <td>NaN</td>\n",
       "      <td>0.000</td>\n",
       "      <td>1.471500e+05</td>\n",
       "      <td>513531.000</td>\n",
       "      <td>24903.000</td>\n",
       "      <td>450000.000</td>\n",
       "      <td>...</td>\n",
       "      <td>0.000</td>\n",
       "      <td>0.000</td>\n",
       "      <td>0.000</td>\n",
       "      <td>0.000</td>\n",
       "      <td>0.000</td>\n",
       "      <td>0.000</td>\n",
       "      <td>0.000</td>\n",
       "      <td>0.000</td>\n",
       "      <td>0.000</td>\n",
       "      <td>1.000</td>\n",
       "    </tr>\n",
       "    <tr>\n",
       "      <th>75%</th>\n",
       "      <td>0.000</td>\n",
       "      <td>NaN</td>\n",
       "      <td>NaN</td>\n",
       "      <td>NaN</td>\n",
       "      <td>NaN</td>\n",
       "      <td>1.000</td>\n",
       "      <td>2.025000e+05</td>\n",
       "      <td>808650.000</td>\n",
       "      <td>34596.000</td>\n",
       "      <td>679500.000</td>\n",
       "      <td>...</td>\n",
       "      <td>0.000</td>\n",
       "      <td>0.000</td>\n",
       "      <td>0.000</td>\n",
       "      <td>0.000</td>\n",
       "      <td>0.000</td>\n",
       "      <td>0.000</td>\n",
       "      <td>0.000</td>\n",
       "      <td>0.000</td>\n",
       "      <td>0.000</td>\n",
       "      <td>3.000</td>\n",
       "    </tr>\n",
       "    <tr>\n",
       "      <th>max</th>\n",
       "      <td>1.000</td>\n",
       "      <td>NaN</td>\n",
       "      <td>NaN</td>\n",
       "      <td>NaN</td>\n",
       "      <td>NaN</td>\n",
       "      <td>19.000</td>\n",
       "      <td>1.170000e+08</td>\n",
       "      <td>4050000.000</td>\n",
       "      <td>258025.500</td>\n",
       "      <td>4050000.000</td>\n",
       "      <td>...</td>\n",
       "      <td>1.000</td>\n",
       "      <td>1.000</td>\n",
       "      <td>1.000</td>\n",
       "      <td>1.000</td>\n",
       "      <td>4.000</td>\n",
       "      <td>9.000</td>\n",
       "      <td>8.000</td>\n",
       "      <td>27.000</td>\n",
       "      <td>261.000</td>\n",
       "      <td>25.000</td>\n",
       "    </tr>\n",
       "  </tbody>\n",
       "</table>\n",
       "<p>11 rows × 92 columns</p>\n",
       "</div>"
      ],
      "text/plain": [
       "            TARGET NAME_CONTRACT_TYPE CODE_GENDER FLAG_OWN_CAR  \\\n",
       "count   307511.000             307511      307511       307511   \n",
       "unique         NaN                  2           3            2   \n",
       "top            NaN         Cash loans           F            N   \n",
       "freq           NaN             278232      202448       202924   \n",
       "mean         0.081                NaN         NaN          NaN   \n",
       "std          0.272                NaN         NaN          NaN   \n",
       "min          0.000                NaN         NaN          NaN   \n",
       "25%          0.000                NaN         NaN          NaN   \n",
       "50%          0.000                NaN         NaN          NaN   \n",
       "75%          0.000                NaN         NaN          NaN   \n",
       "max          1.000                NaN         NaN          NaN   \n",
       "\n",
       "       FLAG_OWN_REALTY  CNT_CHILDREN  AMT_INCOME_TOTAL   AMT_CREDIT  \\\n",
       "count           307511    307511.000      3.075110e+05   307511.000   \n",
       "unique               2           NaN               NaN          NaN   \n",
       "top                  Y           NaN               NaN          NaN   \n",
       "freq            213312           NaN               NaN          NaN   \n",
       "mean               NaN         0.417      1.687979e+05   599026.000   \n",
       "std                NaN         0.722      2.371231e+05   402490.777   \n",
       "min                NaN         0.000      2.565000e+04    45000.000   \n",
       "25%                NaN         0.000      1.125000e+05   270000.000   \n",
       "50%                NaN         0.000      1.471500e+05   513531.000   \n",
       "75%                NaN         1.000      2.025000e+05   808650.000   \n",
       "max                NaN        19.000      1.170000e+08  4050000.000   \n",
       "\n",
       "        AMT_ANNUITY  AMT_GOODS_PRICE  ... FLAG_DOCUMENT_18 FLAG_DOCUMENT_19  \\\n",
       "count    307499.000       307233.000  ...       307511.000       307511.000   \n",
       "unique          NaN              NaN  ...              NaN              NaN   \n",
       "top             NaN              NaN  ...              NaN              NaN   \n",
       "freq            NaN              NaN  ...              NaN              NaN   \n",
       "mean      27108.574       538396.207  ...            0.008            0.001   \n",
       "std       14493.737       369446.461  ...            0.090            0.024   \n",
       "min        1615.500        40500.000  ...            0.000            0.000   \n",
       "25%       16524.000       238500.000  ...            0.000            0.000   \n",
       "50%       24903.000       450000.000  ...            0.000            0.000   \n",
       "75%       34596.000       679500.000  ...            0.000            0.000   \n",
       "max      258025.500      4050000.000  ...            1.000            1.000   \n",
       "\n",
       "       FLAG_DOCUMENT_20 FLAG_DOCUMENT_21 AMT_REQ_CREDIT_BUREAU_HOUR  \\\n",
       "count        307511.000       307511.000                 265992.000   \n",
       "unique              NaN              NaN                        NaN   \n",
       "top                 NaN              NaN                        NaN   \n",
       "freq                NaN              NaN                        NaN   \n",
       "mean              0.001            0.000                      0.006   \n",
       "std               0.023            0.018                      0.084   \n",
       "min               0.000            0.000                      0.000   \n",
       "25%               0.000            0.000                      0.000   \n",
       "50%               0.000            0.000                      0.000   \n",
       "75%               0.000            0.000                      0.000   \n",
       "max               1.000            1.000                      4.000   \n",
       "\n",
       "        AMT_REQ_CREDIT_BUREAU_DAY  AMT_REQ_CREDIT_BUREAU_WEEK  \\\n",
       "count                  265992.000                  265992.000   \n",
       "unique                        NaN                         NaN   \n",
       "top                           NaN                         NaN   \n",
       "freq                          NaN                         NaN   \n",
       "mean                        0.007                       0.034   \n",
       "std                         0.111                       0.205   \n",
       "min                         0.000                       0.000   \n",
       "25%                         0.000                       0.000   \n",
       "50%                         0.000                       0.000   \n",
       "75%                         0.000                       0.000   \n",
       "max                         9.000                       8.000   \n",
       "\n",
       "        AMT_REQ_CREDIT_BUREAU_MON  AMT_REQ_CREDIT_BUREAU_QRT  \\\n",
       "count                  265992.000                 265992.000   \n",
       "unique                        NaN                        NaN   \n",
       "top                           NaN                        NaN   \n",
       "freq                          NaN                        NaN   \n",
       "mean                        0.267                      0.265   \n",
       "std                         0.916                      0.794   \n",
       "min                         0.000                      0.000   \n",
       "25%                         0.000                      0.000   \n",
       "50%                         0.000                      0.000   \n",
       "75%                         0.000                      0.000   \n",
       "max                        27.000                    261.000   \n",
       "\n",
       "        AMT_REQ_CREDIT_BUREAU_YEAR  \n",
       "count                   265992.000  \n",
       "unique                         NaN  \n",
       "top                            NaN  \n",
       "freq                           NaN  \n",
       "mean                         1.900  \n",
       "std                          1.869  \n",
       "min                          0.000  \n",
       "25%                          0.000  \n",
       "50%                          1.000  \n",
       "75%                          3.000  \n",
       "max                         25.000  \n",
       "\n",
       "[11 rows x 92 columns]"
      ]
     },
     "execution_count": 4,
     "metadata": {},
     "output_type": "execute_result"
    }
   ],
   "source": [
    "df.describe(include = 'all').round(3)"
   ]
  },
  {
   "cell_type": "code",
   "execution_count": 5,
   "metadata": {},
   "outputs": [],
   "source": [
    "# clean NaN\n",
    "df = df.fillna(0)"
   ]
  },
  {
   "cell_type": "code",
   "execution_count": 6,
   "metadata": {},
   "outputs": [
    {
     "name": "stdout",
     "output_type": "stream",
     "text": [
      "['NAME_CONTRACT_TYPE', 'CODE_GENDER', 'FLAG_OWN_CAR', 'FLAG_OWN_REALTY', 'NAME_TYPE_SUITE', 'NAME_INCOME_TYPE', 'NAME_EDUCATION_TYPE', 'NAME_FAMILY_STATUS', 'NAME_HOUSING_TYPE', 'OCCUPATION_TYPE', 'WEEKDAY_APPR_PROCESS_START', 'ORGANIZATION_TYPE', 'FONDKAPREMONT_MODE', 'HOUSETYPE_MODE', 'WALLSMATERIAL_MODE', 'EMERGENCYSTATE_MODE']\n"
     ]
    }
   ],
   "source": [
    "# build a list of all the int64 variable\n",
    "string_cols = df.select_dtypes(include=['object']).columns.tolist()\n",
    "print(string_cols)"
   ]
  },
  {
   "cell_type": "code",
   "execution_count": 7,
   "metadata": {},
   "outputs": [
    {
     "name": "stdout",
     "output_type": "stream",
     "text": [
      "Cash loans         278232\n",
      "Revolving loans     29279\n",
      "Name: NAME_CONTRACT_TYPE, dtype: int64\n",
      "F      202448\n",
      "M      105059\n",
      "XNA         4\n",
      "Name: CODE_GENDER, dtype: int64\n",
      "N    202924\n",
      "Y    104587\n",
      "Name: FLAG_OWN_CAR, dtype: int64\n",
      "Y    213312\n",
      "N     94199\n",
      "Name: FLAG_OWN_REALTY, dtype: int64\n",
      "Unaccompanied      248526\n",
      "Family              40149\n",
      "Spouse, partner     11370\n",
      "Children             3267\n",
      "Other_B              1770\n",
      "0                    1292\n",
      "Other_A               866\n",
      "Group of people       271\n",
      "Name: NAME_TYPE_SUITE, dtype: int64\n",
      "Working                 158774\n",
      "Commercial associate     71617\n",
      "Pensioner                55362\n",
      "State servant            21703\n",
      "Unemployed                  22\n",
      "Student                     18\n",
      "Businessman                 10\n",
      "Maternity leave              5\n",
      "Name: NAME_INCOME_TYPE, dtype: int64\n",
      "Secondary / secondary special    218391\n",
      "Higher education                  74863\n",
      "Incomplete higher                 10277\n",
      "Lower secondary                    3816\n",
      "Academic degree                     164\n",
      "Name: NAME_EDUCATION_TYPE, dtype: int64\n",
      "Married                 196432\n",
      "Single / not married     45444\n",
      "Civil marriage           29775\n",
      "Separated                19770\n",
      "Widow                    16088\n",
      "Unknown                      2\n",
      "Name: NAME_FAMILY_STATUS, dtype: int64\n",
      "House / apartment      272868\n",
      "With parents            14840\n",
      "Municipal apartment     11183\n",
      "Rented apartment         4881\n",
      "Office apartment         2617\n",
      "Co-op apartment          1122\n",
      "Name: NAME_HOUSING_TYPE, dtype: int64\n",
      "0                        96391\n",
      "Laborers                 55186\n",
      "Sales staff              32102\n",
      "Core staff               27570\n",
      "Managers                 21371\n",
      "Drivers                  18603\n",
      "High skill tech staff    11380\n",
      "Accountants               9813\n",
      "Medicine staff            8537\n",
      "Security staff            6721\n",
      "Cooking staff             5946\n",
      "Cleaning staff            4653\n",
      "Private service staff     2652\n",
      "Low-skill Laborers        2093\n",
      "Waiters/barmen staff      1348\n",
      "Secretaries               1305\n",
      "Realty agents              751\n",
      "HR staff                   563\n",
      "IT staff                   526\n",
      "Name: OCCUPATION_TYPE, dtype: int64\n",
      "TUESDAY      53901\n",
      "WEDNESDAY    51934\n",
      "MONDAY       50714\n",
      "THURSDAY     50591\n",
      "FRIDAY       50338\n",
      "SATURDAY     33852\n",
      "SUNDAY       16181\n",
      "Name: WEEKDAY_APPR_PROCESS_START, dtype: int64\n",
      "Business Entity Type 3    67992\n",
      "XNA                       55374\n",
      "Self-employed             38412\n",
      "Other                     16683\n",
      "Medicine                  11193\n",
      "Business Entity Type 2    10553\n",
      "Government                10404\n",
      "School                     8893\n",
      "Trade: type 7              7831\n",
      "Kindergarten               6880\n",
      "Construction               6721\n",
      "Business Entity Type 1     5984\n",
      "Transport: type 4          5398\n",
      "Trade: type 3              3492\n",
      "Industry: type 9           3368\n",
      "Industry: type 3           3278\n",
      "Security                   3247\n",
      "Housing                    2958\n",
      "Industry: type 11          2704\n",
      "Military                   2634\n",
      "Bank                       2507\n",
      "Agriculture                2454\n",
      "Police                     2341\n",
      "Transport: type 2          2204\n",
      "Postal                     2157\n",
      "Security Ministries        1974\n",
      "Trade: type 2              1900\n",
      "Restaurant                 1811\n",
      "Services                   1575\n",
      "University                 1327\n",
      "Industry: type 7           1307\n",
      "Transport: type 3          1187\n",
      "Industry: type 1           1039\n",
      "Hotel                       966\n",
      "Electricity                 950\n",
      "Industry: type 4            877\n",
      "Trade: type 6               631\n",
      "Industry: type 5            599\n",
      "Insurance                   597\n",
      "Telecom                     577\n",
      "Emergency                   560\n",
      "Industry: type 2            458\n",
      "Advertising                 429\n",
      "Realtor                     396\n",
      "Culture                     379\n",
      "Industry: type 12           369\n",
      "Trade: type 1               348\n",
      "Mobile                      317\n",
      "Legal Services              305\n",
      "Cleaning                    260\n",
      "Transport: type 1           201\n",
      "Industry: type 6            112\n",
      "Industry: type 10           109\n",
      "Religion                     85\n",
      "Industry: type 13            67\n",
      "Trade: type 4                64\n",
      "Trade: type 5                49\n",
      "Industry: type 8             24\n",
      "Name: ORGANIZATION_TYPE, dtype: int64\n",
      "0                        210295\n",
      "reg oper account          73830\n",
      "reg oper spec account     12080\n",
      "not specified              5687\n",
      "org spec account           5619\n",
      "Name: FONDKAPREMONT_MODE, dtype: int64\n",
      "0                   154297\n",
      "block of flats      150503\n",
      "specific housing      1499\n",
      "terraced house        1212\n",
      "Name: HOUSETYPE_MODE, dtype: int64\n",
      "0               156341\n",
      "Panel            66040\n",
      "Stone, brick     64815\n",
      "Block             9253\n",
      "Wooden            5362\n",
      "Mixed             2296\n",
      "Monolithic        1779\n",
      "Others            1625\n",
      "Name: WALLSMATERIAL_MODE, dtype: int64\n",
      "No     159428\n",
      "0      145755\n",
      "Yes      2328\n",
      "Name: EMERGENCYSTATE_MODE, dtype: int64\n"
     ]
    }
   ],
   "source": [
    "for col in string_cols:\n",
    "      print(df[col].value_counts())"
   ]
  },
  {
   "attachments": {},
   "cell_type": "markdown",
   "metadata": {},
   "source": [
    "---\n",
    "# Transform - binning\n"
   ]
  },
  {
   "cell_type": "code",
   "execution_count": 8,
   "metadata": {},
   "outputs": [
    {
     "data": {
      "text/plain": [
       "(307511, 92)"
      ]
     },
     "execution_count": 8,
     "metadata": {},
     "output_type": "execute_result"
    }
   ],
   "source": [
    "df.shape"
   ]
  },
  {
   "attachments": {},
   "cell_type": "markdown",
   "metadata": {},
   "source": [
    "#### Gender"
   ]
  },
  {
   "cell_type": "code",
   "execution_count": 9,
   "metadata": {},
   "outputs": [
    {
     "data": {
      "text/plain": [
       "F      202448\n",
       "M      105059\n",
       "XNA         4\n",
       "Name: CODE_GENDER, dtype: int64"
      ]
     },
     "execution_count": 9,
     "metadata": {},
     "output_type": "execute_result"
    }
   ],
   "source": [
    "df['CODE_GENDER'].value_counts()"
   ]
  },
  {
   "cell_type": "code",
   "execution_count": 24,
   "metadata": {},
   "outputs": [
    {
     "data": {
      "text/plain": [
       "(307507, 92)"
      ]
     },
     "execution_count": 24,
     "metadata": {},
     "output_type": "execute_result"
    }
   ],
   "source": [
    "# remove genders other than M and F\n",
    "df_clean = df[df['CODE_GENDER'] != 'XNA']\n",
    "df_clean.shape"
   ]
  },
  {
   "attachments": {},
   "cell_type": "markdown",
   "metadata": {},
   "source": [
    "#### CNT_CHILDREN"
   ]
  },
  {
   "cell_type": "code",
   "execution_count": 25,
   "metadata": {},
   "outputs": [
    {
     "data": {
      "text/plain": [
       "0     215369\n",
       "1      61118\n",
       "2      26748\n",
       "3       3717\n",
       "4        429\n",
       "5         84\n",
       "6         21\n",
       "7          7\n",
       "14         3\n",
       "8          2\n",
       "9          2\n",
       "12         2\n",
       "10         2\n",
       "19         2\n",
       "11         1\n",
       "Name: CNT_CHILDREN, dtype: int64"
      ]
     },
     "execution_count": 25,
     "metadata": {},
     "output_type": "execute_result"
    }
   ],
   "source": [
    "df_clean['CNT_CHILDREN'].value_counts()"
   ]
  },
  {
   "cell_type": "code",
   "execution_count": 26,
   "metadata": {},
   "outputs": [
    {
     "name": "stderr",
     "output_type": "stream",
     "text": [
      "C:\\Users\\jspinega\\AppData\\Local\\Temp\\ipykernel_6344\\1775828234.py:12: SettingWithCopyWarning: \n",
      "A value is trying to be set on a copy of a slice from a DataFrame.\n",
      "Try using .loc[row_indexer,col_indexer] = value instead\n",
      "\n",
      "See the caveats in the documentation: https://pandas.pydata.org/pandas-docs/stable/user_guide/indexing.html#returning-a-view-versus-a-copy\n",
      "  df_clean[col_to_bin] = df_clean[col_to_bin].replace(app,bin_number)\n"
     ]
    },
    {
     "data": {
      "text/plain": [
       "0    215369\n",
       "1     61118\n",
       "2     26748\n",
       "3      3717\n",
       "4       555\n",
       "Name: CNT_CHILDREN, dtype: int64"
      ]
     },
     "execution_count": 26,
     "metadata": {},
     "output_type": "execute_result"
    }
   ],
   "source": [
    "# Bin a column\n",
    "\n",
    "col_to_bin = 'CNT_CHILDREN'         # name of the column\n",
    "Cutoff = 500                        # cut off value for binning    \n",
    "bin_number = 4                      # number/name of the collection bin\n",
    "\n",
    "a = df_clean[col_to_bin].value_counts()\n",
    "application_types_to_replace = a[a < Cutoff].index.tolist()\n",
    "\n",
    "# Replace in dataframe\n",
    "for app in application_types_to_replace:\n",
    "    df_clean[col_to_bin] = df_clean[col_to_bin].replace(app,bin_number)\n",
    "\n",
    "# Check to make sure binning was successful\n",
    "df_clean[col_to_bin].value_counts()"
   ]
  },
  {
   "attachments": {},
   "cell_type": "markdown",
   "metadata": {},
   "source": [
    "#### NAME_INCOME_TYPE"
   ]
  },
  {
   "cell_type": "code",
   "execution_count": 27,
   "metadata": {},
   "outputs": [
    {
     "data": {
      "text/plain": [
       "Working                 158771\n",
       "Commercial associate     71616\n",
       "Pensioner                55362\n",
       "State servant            21703\n",
       "Unemployed                  22\n",
       "Student                     18\n",
       "Businessman                 10\n",
       "Maternity leave              5\n",
       "Name: NAME_INCOME_TYPE, dtype: int64"
      ]
     },
     "execution_count": 27,
     "metadata": {},
     "output_type": "execute_result"
    }
   ],
   "source": [
    "df_clean['NAME_INCOME_TYPE'].value_counts()"
   ]
  },
  {
   "cell_type": "code",
   "execution_count": 28,
   "metadata": {},
   "outputs": [
    {
     "name": "stderr",
     "output_type": "stream",
     "text": [
      "C:\\Users\\jspinega\\AppData\\Local\\Temp\\ipykernel_6344\\1842565196.py:12: SettingWithCopyWarning: \n",
      "A value is trying to be set on a copy of a slice from a DataFrame.\n",
      "Try using .loc[row_indexer,col_indexer] = value instead\n",
      "\n",
      "See the caveats in the documentation: https://pandas.pydata.org/pandas-docs/stable/user_guide/indexing.html#returning-a-view-versus-a-copy\n",
      "  df_clean[col_to_bin] = df_clean[col_to_bin].replace(app,bin_number)\n"
     ]
    },
    {
     "data": {
      "text/plain": [
       "Working                 158771\n",
       "Commercial associate     71616\n",
       "Pensioner                55362\n",
       "State servant            21703\n",
       "Other                       55\n",
       "Name: NAME_INCOME_TYPE, dtype: int64"
      ]
     },
     "execution_count": 28,
     "metadata": {},
     "output_type": "execute_result"
    }
   ],
   "source": [
    "# Bin a column\n",
    "\n",
    "col_to_bin = 'NAME_INCOME_TYPE'         # name of the column\n",
    "Cutoff = 100                        # cut off value for binning    \n",
    "bin_number = 'Other'                      # number/name of the collection bin\n",
    "\n",
    "a = df_clean[col_to_bin].value_counts()\n",
    "application_types_to_replace = a[a < Cutoff].index.tolist()\n",
    "\n",
    "# Replace in dataframe\n",
    "for app in application_types_to_replace:\n",
    "    df_clean[col_to_bin] = df_clean[col_to_bin].replace(app,bin_number)\n",
    "\n",
    "# Check to make sure binning was successful\n",
    "df_clean[col_to_bin].value_counts()"
   ]
  },
  {
   "attachments": {},
   "cell_type": "markdown",
   "metadata": {},
   "source": [
    "#### NAME_EDUCATION_TYPE"
   ]
  },
  {
   "cell_type": "code",
   "execution_count": 29,
   "metadata": {},
   "outputs": [
    {
     "data": {
      "text/plain": [
       "Secondary / secondary special    218389\n",
       "Higher education                  74862\n",
       "Incomplete higher                 10276\n",
       "Lower secondary                    3816\n",
       "Academic degree                     164\n",
       "Name: NAME_EDUCATION_TYPE, dtype: int64"
      ]
     },
     "execution_count": 29,
     "metadata": {},
     "output_type": "execute_result"
    }
   ],
   "source": [
    "df_clean['NAME_EDUCATION_TYPE'].value_counts()"
   ]
  },
  {
   "attachments": {},
   "cell_type": "markdown",
   "metadata": {},
   "source": [
    "#### NAME_FAMILY_STATUS"
   ]
  },
  {
   "cell_type": "code",
   "execution_count": 30,
   "metadata": {},
   "outputs": [
    {
     "data": {
      "text/plain": [
       "Married                 196429\n",
       "Single / not married     45444\n",
       "Civil marriage           29774\n",
       "Separated                19770\n",
       "Widow                    16088\n",
       "Unknown                      2\n",
       "Name: NAME_FAMILY_STATUS, dtype: int64"
      ]
     },
     "execution_count": 30,
     "metadata": {},
     "output_type": "execute_result"
    }
   ],
   "source": [
    "df_clean['NAME_FAMILY_STATUS'].value_counts()"
   ]
  },
  {
   "cell_type": "code",
   "execution_count": 31,
   "metadata": {},
   "outputs": [
    {
     "data": {
      "text/plain": [
       "Married                 196429\n",
       "Single / not married     45444\n",
       "Civil marriage           29774\n",
       "Separated                19770\n",
       "Widow                    16088\n",
       "Name: NAME_FAMILY_STATUS, dtype: int64"
      ]
     },
     "execution_count": 31,
     "metadata": {},
     "output_type": "execute_result"
    }
   ],
   "source": [
    "# drop NAME_FAMILY_STATUS greater than 5 \n",
    "df_clean = df_clean[df_clean['NAME_FAMILY_STATUS'] != 'Unknown']\n",
    "df_clean['NAME_FAMILY_STATUS'].value_counts()"
   ]
  },
  {
   "attachments": {},
   "cell_type": "markdown",
   "metadata": {},
   "source": [
    "#### FLAG_MOBIL"
   ]
  },
  {
   "cell_type": "code",
   "execution_count": 32,
   "metadata": {},
   "outputs": [
    {
     "data": {
      "text/plain": [
       "1    307504\n",
       "0         1\n",
       "Name: FLAG_MOBIL, dtype: int64"
      ]
     },
     "execution_count": 32,
     "metadata": {},
     "output_type": "execute_result"
    }
   ],
   "source": [
    "df_clean['FLAG_MOBIL'].value_counts()"
   ]
  },
  {
   "cell_type": "code",
   "execution_count": 33,
   "metadata": {},
   "outputs": [
    {
     "data": {
      "text/plain": [
       "(307505, 91)"
      ]
     },
     "execution_count": 33,
     "metadata": {},
     "output_type": "execute_result"
    }
   ],
   "source": [
    "# drop FLAG_MOBIL since there is no variablility \n",
    "df_clean = df_clean.drop(columns = ['FLAG_MOBIL'])\n",
    "df_clean.shape"
   ]
  },
  {
   "attachments": {},
   "cell_type": "markdown",
   "metadata": {},
   "source": [
    "#### Recode day of week to weekday and weekend\n"
   ]
  },
  {
   "cell_type": "code",
   "execution_count": 35,
   "metadata": {},
   "outputs": [],
   "source": [
    "# creat at new variable Weekend = true if WEEKDAY_APPR_PROCESS_START = Saturday or Sunday\n",
    "df_clean['WEEKDAY_APPR_PROCESS_START'] = df_clean['WEEKDAY_APPR_PROCESS_START'].replace({'MONDAY': 1, 'TUESDAY': 1, 'WEDNESDAY': 1, 'THURSDAY':1, 'FRIDAY':1, 'SATURDAY':0, 'SUNDAY':0})\n"
   ]
  },
  {
   "attachments": {},
   "cell_type": "markdown",
   "metadata": {},
   "source": [
    "#### Consolidate Documents to a single variable that is a count of documents"
   ]
  },
  {
   "cell_type": "code",
   "execution_count": 37,
   "metadata": {},
   "outputs": [],
   "source": [
    "# Combine documents\n",
    "df_clean['DOC_COUNT']  = df_clean[['FLAG_DOCUMENT_2',\n",
    "            'FLAG_DOCUMENT_3', \n",
    "            'FLAG_DOCUMENT_4', \n",
    "            'FLAG_DOCUMENT_5', \n",
    "            'FLAG_DOCUMENT_6', \n",
    "            'FLAG_DOCUMENT_7', \n",
    "            'FLAG_DOCUMENT_8', \n",
    "            'FLAG_DOCUMENT_9', \n",
    "            'FLAG_DOCUMENT_10', \n",
    "            'FLAG_DOCUMENT_11', \n",
    "            'FLAG_DOCUMENT_12', \n",
    "            'FLAG_DOCUMENT_13', \n",
    "            'FLAG_DOCUMENT_14', \n",
    "            'FLAG_DOCUMENT_15', \n",
    "            'FLAG_DOCUMENT_16', \n",
    "            'FLAG_DOCUMENT_17', \n",
    "            'FLAG_DOCUMENT_18', \n",
    "            'FLAG_DOCUMENT_19', \n",
    "            'FLAG_DOCUMENT_20', \n",
    "            'FLAG_DOCUMENT_21' ]].sum(axis=1)\n"
   ]
  },
  {
   "cell_type": "code",
   "execution_count": 38,
   "metadata": {},
   "outputs": [],
   "source": [
    "df_clean = df_clean.drop(columns = ['FLAG_DOCUMENT_2',\n",
    "            'FLAG_DOCUMENT_3', \n",
    "            'FLAG_DOCUMENT_4', \n",
    "            'FLAG_DOCUMENT_5', \n",
    "            'FLAG_DOCUMENT_6', \n",
    "            'FLAG_DOCUMENT_7', \n",
    "            'FLAG_DOCUMENT_8', \n",
    "            'FLAG_DOCUMENT_9', \n",
    "            'FLAG_DOCUMENT_10', \n",
    "            'FLAG_DOCUMENT_11', \n",
    "            'FLAG_DOCUMENT_12', \n",
    "            'FLAG_DOCUMENT_13', \n",
    "            'FLAG_DOCUMENT_14', \n",
    "            'FLAG_DOCUMENT_15', \n",
    "            'FLAG_DOCUMENT_16', \n",
    "            'FLAG_DOCUMENT_17', \n",
    "            'FLAG_DOCUMENT_18', \n",
    "            'FLAG_DOCUMENT_19', \n",
    "            'FLAG_DOCUMENT_20', \n",
    "            'FLAG_DOCUMENT_21'])\n"
   ]
  },
  {
   "cell_type": "code",
   "execution_count": 39,
   "metadata": {},
   "outputs": [
    {
     "data": {
      "text/plain": [
       "1    270054\n",
       "0     29545\n",
       "2      7742\n",
       "3       163\n",
       "4         1\n",
       "Name: DOC_COUNT, dtype: int64"
      ]
     },
     "execution_count": 39,
     "metadata": {},
     "output_type": "execute_result"
    }
   ],
   "source": [
    "df_clean['DOC_COUNT'].value_counts()"
   ]
  },
  {
   "cell_type": "code",
   "execution_count": 40,
   "metadata": {},
   "outputs": [
    {
     "data": {
      "text/plain": [
       "Business Entity Type 3    67992\n",
       "XNA                       55374\n",
       "Self-employed             38412\n",
       "Other                     16683\n",
       "Medicine                  11192\n",
       "Business Entity Type 2    10552\n",
       "Government                10404\n",
       "School                     8893\n",
       "Trade: type 7              7831\n",
       "Kindergarten               6879\n",
       "Construction               6721\n",
       "Business Entity Type 1     5983\n",
       "Transport: type 4          5398\n",
       "Trade: type 3              3492\n",
       "Industry: type 9           3368\n",
       "Industry: type 3           3277\n",
       "Security                   3247\n",
       "Housing                    2958\n",
       "Industry: type 11          2704\n",
       "Military                   2634\n",
       "Bank                       2507\n",
       "Agriculture                2454\n",
       "Police                     2341\n",
       "Transport: type 2          2204\n",
       "Postal                     2157\n",
       "Security Ministries        1974\n",
       "Trade: type 2              1900\n",
       "Restaurant                 1811\n",
       "Services                   1575\n",
       "University                 1327\n",
       "Industry: type 7           1307\n",
       "Transport: type 3          1187\n",
       "Industry: type 1           1039\n",
       "Hotel                       966\n",
       "Electricity                 950\n",
       "Industry: type 4            877\n",
       "Trade: type 6               631\n",
       "Industry: type 5            599\n",
       "Insurance                   596\n",
       "Telecom                     577\n",
       "Emergency                   560\n",
       "Industry: type 2            458\n",
       "Advertising                 429\n",
       "Realtor                     396\n",
       "Culture                     379\n",
       "Industry: type 12           369\n",
       "Trade: type 1               348\n",
       "Mobile                      317\n",
       "Legal Services              305\n",
       "Cleaning                    260\n",
       "Transport: type 1           201\n",
       "Industry: type 6            112\n",
       "Industry: type 10           109\n",
       "Religion                     85\n",
       "Industry: type 13            67\n",
       "Trade: type 4                64\n",
       "Trade: type 5                49\n",
       "Industry: type 8             24\n",
       "Name: ORGANIZATION_TYPE, dtype: int64"
      ]
     },
     "execution_count": 40,
     "metadata": {},
     "output_type": "execute_result"
    }
   ],
   "source": [
    "df_clean['ORGANIZATION_TYPE'].value_counts()"
   ]
  },
  {
   "cell_type": "code",
   "execution_count": 41,
   "metadata": {},
   "outputs": [],
   "source": [
    "# organization type.  It has 58 categories and no good way to bucket them.\n",
    "df_clean = df_clean.drop(columns = ['ORGANIZATION_TYPE'])"
   ]
  },
  {
   "attachments": {},
   "cell_type": "markdown",
   "metadata": {},
   "source": [
    "# finished binning\n",
    "---"
   ]
  },
  {
   "attachments": {},
   "cell_type": "markdown",
   "metadata": {},
   "source": [
    "# Load Postgress with clean code"
   ]
  },
  {
   "cell_type": "code",
   "execution_count": 42,
   "metadata": {},
   "outputs": [
    {
     "data": {
      "text/plain": [
       "505"
      ]
     },
     "execution_count": 42,
     "metadata": {},
     "output_type": "execute_result"
    }
   ],
   "source": [
    "df_clean.to_sql('app_data_clean',con=engine,schema='proj4_sch',if_exists='replace',index=False)"
   ]
  },
  {
   "attachments": {},
   "cell_type": "markdown",
   "metadata": {},
   "source": [
    "---\n",
    "# Prepare for machine learning"
   ]
  },
  {
   "cell_type": "code",
   "execution_count": null,
   "metadata": {},
   "outputs": [],
   "source": [
    "X = df_clean"
   ]
  },
  {
   "cell_type": "code",
   "execution_count": null,
   "metadata": {},
   "outputs": [],
   "source": [
    "# looking to see if there are any variable that are highly correlated that may be preventing a more accurate model \n",
    "plt.figure(figsize=(10,7))\n",
    "c= X.corr()\n",
    "sns.heatmap(c)\n",
    "\n",
    "# The correlation heat map below indicates the variables are not well separated.  "
   ]
  },
  {
   "cell_type": "code",
   "execution_count": null,
   "metadata": {},
   "outputs": [],
   "source": [
    "# Convert categorical data using dummies.\n",
    "# Convert categorical data to numeric with `pd.get_dummies`\n",
    "#  YOUR CODE GOES HERE\n",
    "X_dummies = pd.get_dummies(X)\n",
    "print(X_dummies.columns)\n",
    "X_dummies"
   ]
  },
  {
   "cell_type": "code",
   "execution_count": null,
   "metadata": {},
   "outputs": [],
   "source": [
    "stop here"
   ]
  },
  {
   "attachments": {},
   "cell_type": "markdown",
   "metadata": {},
   "source": [
    "---\n",
    "# Start model building"
   ]
  },
  {
   "cell_type": "code",
   "execution_count": null,
   "metadata": {},
   "outputs": [],
   "source": [
    "# Seperate out the dependent and independen variables\n",
    "# Split our preprocessed data into our features and target arrays\n",
    "\n",
    "# this is the target\n",
    "y = X[\"TARGET\"].values\n",
    "\n",
    "# Drop y out of the dataframe to get the independent variables\n",
    "# this is the feature list\n",
    "X = X.drop(\"TARGET\", axis=1)\n",
    "independent_variables = X.columns\n",
    "X.head()"
   ]
  },
  {
   "attachments": {},
   "cell_type": "markdown",
   "metadata": {},
   "source": [
    "### Split"
   ]
  },
  {
   "cell_type": "code",
   "execution_count": null,
   "metadata": {},
   "outputs": [],
   "source": [
    "# Split the preprocessed data into a training and testing dataset\n",
    "# Split the data into X_train, X_test, y_train, y_test\n",
    "X_train, X_test, y_train, y_test = train_test_split(X, y, random_state=42)"
   ]
  },
  {
   "attachments": {},
   "cell_type": "markdown",
   "metadata": {},
   "source": [
    "### Scale"
   ]
  },
  {
   "cell_type": "code",
   "execution_count": null,
   "metadata": {},
   "outputs": [],
   "source": [
    "# there was only one value that needed Scaling ASK_AMT\n",
    "# Therefore I scaled that variable earlier in the code so the whole data set could be exported for testing in other code.\n",
    "\n",
    "# I Copied the dataframes to the the \"standard names\" so that \"cut and Paste code would work\"\n",
    "X_train_scaled = X_train\n",
    "X_test_scaled = X_test"
   ]
  },
  {
   "cell_type": "code",
   "execution_count": null,
   "metadata": {},
   "outputs": [],
   "source": []
  },
  {
   "cell_type": "code",
   "execution_count": null,
   "metadata": {},
   "outputs": [],
   "source": [
    "stop here"
   ]
  },
  {
   "cell_type": "code",
   "execution_count": null,
   "metadata": {},
   "outputs": [],
   "source": []
  }
 ],
 "metadata": {
  "kernelspec": {
   "display_name": "base",
   "language": "python",
   "name": "python3"
  },
  "language_info": {
   "codemirror_mode": {
    "name": "ipython",
    "version": 3
   },
   "file_extension": ".py",
   "mimetype": "text/x-python",
   "name": "python",
   "nbconvert_exporter": "python",
   "pygments_lexer": "ipython3",
   "version": "3.9.15"
  },
  "orig_nbformat": 4
 },
 "nbformat": 4,
 "nbformat_minor": 2
}
